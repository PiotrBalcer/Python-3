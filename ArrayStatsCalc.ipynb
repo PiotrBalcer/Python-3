{
 "cells": [
  {
   "cell_type": "raw",
   "metadata": {},
   "source": [
    "Assignment\n",
    "\n",
    "Create a function named calculate() in mean_var_std.py that uses Numpy to output the mean, variance, standard deviation, max, min, and sum of the rows, columns, and elements in a 3 x 3 matrix.\n",
    "\n",
    "The input of the function should be a list containing 9 digits. The function should convert the list into a 3 x 3 Numpy array, and then return a dictionary containing the mean, variance, standard deviation, max, min, and sum along both axes and for the flattened matrix.\n",
    "\n",
    "The returned dictionary should follow this format:\n",
    "\n",
    "\n",
    "{\n",
    "  'mean': [axis1, axis2, flattened],\n",
    "  'variance': [axis1, axis2, flattened],\n",
    "  'standard deviation': [axis1, axis2, flattened],\n",
    "  'max': [axis1, axis2, flattened],\n",
    "  'min': [axis1, axis2, flattened],\n",
    "  'sum': [axis1, axis2, flattened]\n",
    "}\n",
    "\n",
    "If a list containing less than 9 elements is passed into the function, it should raise a ValueError exception with the message: \"List must contain nine numbers.\" The values in the returned dictionary should be lists and not Numpy arrays.\n",
    "\n",
    "For example, calculate([0,1,2,3,4,5,6,7,8]) should return:\n",
    "\n",
    "\n",
    "{\n",
    "  'mean': [[3.0, 4.0, 5.0], [1.0, 4.0, 7.0], 4.0], \n",
    "  'variance': [[6.0, 6.0, 6.0], [0.6666666666666666, 0.6666666666666666, 0.6666666666666666], 6.666666666666667], \n",
    "  'standard deviation': [[2.449489742783178, 2.449489742783178, 2.449489742783178], [0.816496580927726, 0.816496580927726, 0.816496580927726], 2.581988897471611],\n",
    "  'max': [[6, 7, 8], [2, 5, 8], 8],\n",
    "  'min': [[0, 1, 2], [0, 3, 6], 0],\n",
    "  'sum': [[9, 12, 15], [3, 12, 21], 36]}\n",
    "}\n",
    "\n"
   ]
  },
  {
   "cell_type": "code",
   "execution_count": null,
   "metadata": {},
   "outputs": [],
   "source": []
  },
  {
   "cell_type": "code",
   "execution_count": 78,
   "metadata": {},
   "outputs": [],
   "source": [
    "import numpy as np"
   ]
  },
  {
   "cell_type": "code",
   "execution_count": 85,
   "metadata": {},
   "outputs": [],
   "source": [
    "def calculate(lst):\n",
    "    \n",
    "    try:\n",
    "        \n",
    "        arr = np.array(lst)\n",
    "        ar = arr.reshape(3,3)\n",
    "\n",
    "        #create a list with all vertical means\n",
    "        vert_nums_mean = [np.mean(ar[:,0]), np.mean(ar[:,1]), np.mean(ar[:,2])]\n",
    "        #create a list with all horizontal means\n",
    "        hor_nums_mean = [np.mean(ar[0,:]), np.mean(ar[1,:]), np.mean(ar[2,:])]\n",
    "        #calculate mean\n",
    "        num_mean = np.mean(ar)\n",
    "        #create a list with all vertical variances\n",
    "        vert_nums_var = [np.var(ar[:,0]), np.var(ar[:,1]), np.var(ar[:,2])]\n",
    "        #create a list with all horizontal variances\n",
    "        hor_nums_var = [np.var(ar[2,:]), np.var(ar[1,:]), np.var(ar[0,:])]\n",
    "        #calculate variance\n",
    "        num_var = np.var(ar)\n",
    "        #create a list with all vertical std\n",
    "        vert_nums_std = [np.std(ar[:,0]), np.std(ar[:,1]), np.std(ar[:,2])]\n",
    "        #create a list with all horizontal std\n",
    "        hor_nums_std = [np.std(ar[0,:]), np.std(ar[1,:]), np.std(ar[2,:])]\n",
    "        #calculate std\n",
    "        num_std = np.std(ar)\n",
    "        #create a list with all vertical max\n",
    "        vert_nums_max = [np.max(ar[:,0]), np.max(ar[:,1]), np.max(ar[:,2])]\n",
    "        #create a list with all horizontal max\n",
    "        hor_nums_max = [np.max(ar[0,:]), np.max(ar[1,:]), np.max(ar[2,:])]\n",
    "        #calculate max\n",
    "        num_max = np.max(ar)\n",
    "        #create a list with all vertical min\n",
    "        vert_nums_min = [np.min(ar[:,0]), np.min(ar[:,1]), np.min(ar[:,2])]\n",
    "        #create a list with all horizontal min\n",
    "        hor_nums_min = [np.min(ar[0,:]), np.min(ar[1,:]), np.min(ar[2,:])]\n",
    "        #calculate min\n",
    "        num_min = np.min(ar)\n",
    "        #create a list with all vertical sum\n",
    "        vert_nums_sum = [np.sum(ar[:,0]), np.sum(ar[:,1]), np.sum(ar[:,2])]\n",
    "        #create a list with all horizontal sum\n",
    "        hor_nums_sum = [np.sum(ar[0,:]), np.sum(ar[1,:]), np.sum(ar[2,:])]\n",
    "        #calculate min\n",
    "        num_sum = np.sum(ar)\n",
    "\n",
    "        #create a dictionary with results\n",
    "        myresult = {'mean': [ vert_nums_mean,hor_nums_mean, num_mean],\n",
    "            'variance': [ vert_nums_var,hor_nums_var, num_var],\n",
    "             'standard deviation': [ vert_nums_std,hor_nums_std, num_std],\n",
    "             'max': [ vert_nums_max,hor_nums_max, num_max],\n",
    "             'min': [ vert_nums_min,hor_nums_min, num_min],\n",
    "             'sum': [ vert_nums_sum,hor_nums_sum,num_sum ]        \n",
    "            }  \n",
    "    \n",
    "        return myresult\n",
    "\n",
    "    except ValueError:\n",
    "        raise ValueError('List must contain nine numbers')"
   ]
  },
  {
   "cell_type": "code",
   "execution_count": 86,
   "metadata": {},
   "outputs": [
    {
     "data": {
      "text/plain": [
       "{'mean': [[3.0, 4.0, 5.0], [1.0, 4.0, 7.0], 4.0],\n",
       " 'variance': [[6.0, 6.0, 6.0],\n",
       "  [0.6666666666666666, 0.6666666666666666, 0.6666666666666666],\n",
       "  6.666666666666667],\n",
       " 'standard deviation': [[2.449489742783178,\n",
       "   2.449489742783178,\n",
       "   2.449489742783178],\n",
       "  [0.816496580927726, 0.816496580927726, 0.816496580927726],\n",
       "  2.581988897471611],\n",
       " 'max': [[6, 7, 8], [2, 5, 8], 8],\n",
       " 'min': [[0, 1, 2], [0, 3, 6], 0],\n",
       " 'sum': [[9, 12, 15], [3, 12, 21], 36]}"
      ]
     },
     "execution_count": 86,
     "metadata": {},
     "output_type": "execute_result"
    }
   ],
   "source": [
    "calculate([0,1,2,3,4,5,6,7,8])"
   ]
  },
  {
   "cell_type": "code",
   "execution_count": 87,
   "metadata": {},
   "outputs": [
    {
     "ename": "ValueError",
     "evalue": "List must contain nine numbers",
     "output_type": "error",
     "traceback": [
      "\u001b[1;31m---------------------------------------------------------------------------\u001b[0m",
      "\u001b[1;31mValueError\u001b[0m                                Traceback (most recent call last)",
      "\u001b[1;32m<ipython-input-85-c496c168e967>\u001b[0m in \u001b[0;36mcalculate\u001b[1;34m(lst)\u001b[0m\n\u001b[0;32m      5\u001b[0m         \u001b[0marr\u001b[0m \u001b[1;33m=\u001b[0m \u001b[0mnp\u001b[0m\u001b[1;33m.\u001b[0m\u001b[0marray\u001b[0m\u001b[1;33m(\u001b[0m\u001b[0mlst\u001b[0m\u001b[1;33m)\u001b[0m\u001b[1;33m\u001b[0m\u001b[1;33m\u001b[0m\u001b[0m\n\u001b[1;32m----> 6\u001b[1;33m         \u001b[0mar\u001b[0m \u001b[1;33m=\u001b[0m \u001b[0marr\u001b[0m\u001b[1;33m.\u001b[0m\u001b[0mreshape\u001b[0m\u001b[1;33m(\u001b[0m\u001b[1;36m3\u001b[0m\u001b[1;33m,\u001b[0m\u001b[1;36m3\u001b[0m\u001b[1;33m)\u001b[0m\u001b[1;33m\u001b[0m\u001b[1;33m\u001b[0m\u001b[0m\n\u001b[0m\u001b[0;32m      7\u001b[0m \u001b[1;33m\u001b[0m\u001b[0m\n",
      "\u001b[1;31mValueError\u001b[0m: cannot reshape array of size 8 into shape (3,3)",
      "\nDuring handling of the above exception, another exception occurred:\n",
      "\u001b[1;31mValueError\u001b[0m                                Traceback (most recent call last)",
      "\u001b[1;32m<ipython-input-87-d9ff5ddfaf0b>\u001b[0m in \u001b[0;36m<module>\u001b[1;34m\u001b[0m\n\u001b[1;32m----> 1\u001b[1;33m \u001b[0mcalculate\u001b[0m\u001b[1;33m(\u001b[0m\u001b[1;33m[\u001b[0m\u001b[1;36m0\u001b[0m\u001b[1;33m,\u001b[0m\u001b[1;36m1\u001b[0m\u001b[1;33m,\u001b[0m\u001b[1;36m2\u001b[0m\u001b[1;33m,\u001b[0m\u001b[1;36m3\u001b[0m\u001b[1;33m,\u001b[0m\u001b[1;36m4\u001b[0m\u001b[1;33m,\u001b[0m\u001b[1;36m5\u001b[0m\u001b[1;33m,\u001b[0m\u001b[1;36m6\u001b[0m\u001b[1;33m,\u001b[0m\u001b[1;36m7\u001b[0m\u001b[1;33m]\u001b[0m\u001b[1;33m)\u001b[0m\u001b[1;33m\u001b[0m\u001b[1;33m\u001b[0m\u001b[0m\n\u001b[0m",
      "\u001b[1;32m<ipython-input-85-c496c168e967>\u001b[0m in \u001b[0;36mcalculate\u001b[1;34m(lst)\u001b[0m\n\u001b[0;32m     55\u001b[0m \u001b[1;33m\u001b[0m\u001b[0m\n\u001b[0;32m     56\u001b[0m     \u001b[1;32mexcept\u001b[0m \u001b[0mValueError\u001b[0m\u001b[1;33m:\u001b[0m\u001b[1;33m\u001b[0m\u001b[1;33m\u001b[0m\u001b[0m\n\u001b[1;32m---> 57\u001b[1;33m         \u001b[1;32mraise\u001b[0m \u001b[0mValueError\u001b[0m\u001b[1;33m(\u001b[0m\u001b[1;34m'List must contain nine numbers'\u001b[0m\u001b[1;33m)\u001b[0m\u001b[1;33m\u001b[0m\u001b[1;33m\u001b[0m\u001b[0m\n\u001b[0m",
      "\u001b[1;31mValueError\u001b[0m: List must contain nine numbers"
     ]
    }
   ],
   "source": [
    "calculate([0,1,2,3,4,5,6,7])"
   ]
  },
  {
   "cell_type": "code",
   "execution_count": null,
   "metadata": {},
   "outputs": [],
   "source": []
  }
 ],
 "metadata": {
  "kernelspec": {
   "display_name": "Python 3",
   "language": "python",
   "name": "python3"
  },
  "language_info": {
   "codemirror_mode": {
    "name": "ipython",
    "version": 3
   },
   "file_extension": ".py",
   "mimetype": "text/x-python",
   "name": "python",
   "nbconvert_exporter": "python",
   "pygments_lexer": "ipython3",
   "version": "3.8.3"
  }
 },
 "nbformat": 4,
 "nbformat_minor": 4
}
